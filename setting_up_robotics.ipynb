{
 "cells": [
  {
   "cell_type": "markdown",
   "metadata": {},
   "source": [
    "### Initialize the Simulation Environment"
   ]
  },
  {
   "cell_type": "code",
   "execution_count": 1,
   "metadata": {},
   "outputs": [],
   "source": [
    "from sim_class import Simulation\n",
    "\n",
    "# Initialize the simulation with a specified number of agents\n",
    "sim = Simulation(num_agents=1)  # For one robot"
   ]
  },
  {
   "cell_type": "markdown",
   "metadata": {},
   "source": [
    "### Sending Commands to the Robot\n",
    "\n"
   ]
  },
  {
   "cell_type": "code",
   "execution_count": 2,
   "metadata": {},
   "outputs": [
    {
     "data": {
      "text/plain": [
       "{'robotId_1': {'joint_states': {'joint_0': {'position': -0.18000202514825905,\n",
       "    'velocity': 0.0001351897597496777,\n",
       "    'reaction_forces': (0.0, 0.0, 0.0, 0.0, 0.0, 0.0),\n",
       "    'motor_torque': -500.00000000000006},\n",
       "   'joint_1': {'position': -0.130009035250755,\n",
       "    'velocity': 0.0005485538164993085,\n",
       "    'reaction_forces': (0.0, 0.0, 0.0, 0.0, 0.0, 0.0),\n",
       "    'motor_torque': -500.00000000000006},\n",
       "   'joint_2': {'position': 0.17017015626300608,\n",
       "    'velocity': -0.010209375780364294,\n",
       "    'reaction_forces': (0.0, 0.0, 0.0, 0.0, 0.0, 0.0),\n",
       "    'motor_torque': 800.0}},\n",
       "  'robot_position': [0.1800023510089135,\n",
       "   0.13000901165406797,\n",
       "   0.20017009488091778],\n",
       "  'pipette_position': [0.253, 0.2195, 0.2897]}}"
      ]
     },
     "execution_count": 2,
     "metadata": {},
     "output_type": "execute_result"
    }
   ],
   "source": [
    "# Example action: Move joints with specific velocities\n",
    "velocity_x = 0.1\n",
    "velocity_y = 0.1     \n",
    "velocity_z = 0.1\n",
    "drop_command = 0\n",
    "actions = [[velocity_x, velocity_y, velocity_z, drop_command]]\n",
    "\n",
    "# Run the simulation for a specified number of steps\n",
    "sim.run(actions, num_steps=1000)\n"
   ]
  },
  {
   "cell_type": "markdown",
   "metadata": {},
   "source": [
    "### random actions to two robots at each step for 1000 steps"
   ]
  },
  {
   "cell_type": "code",
   "execution_count": 1,
   "metadata": {},
   "outputs": [
    {
     "ename": "error",
     "evalue": "Not connected to physics server.",
     "output_type": "error",
     "traceback": [
      "\u001b[1;31m---------------------------------------------------------------------------\u001b[0m",
      "\u001b[1;31merror\u001b[0m                                     Traceback (most recent call last)",
      "Cell \u001b[1;32mIn[1], line 4\u001b[0m\n\u001b[0;32m      2\u001b[0m \u001b[38;5;28;01mimport\u001b[39;00m \u001b[38;5;21;01mrandom\u001b[39;00m\n\u001b[0;32m      3\u001b[0m \u001b[38;5;66;03m# Initialize the simulation with a specified number of agents\u001b[39;00m\n\u001b[1;32m----> 4\u001b[0m sim \u001b[38;5;241m=\u001b[39m \u001b[43mSimulation\u001b[49m\u001b[43m(\u001b[49m\u001b[43mnum_agents\u001b[49m\u001b[38;5;241;43m=\u001b[39;49m\u001b[38;5;241;43m2000\u001b[39;49m\u001b[43m)\u001b[49m  \u001b[38;5;66;03m# For two robots\u001b[39;00m\n\u001b[0;32m      6\u001b[0m \u001b[38;5;66;03m# Run the simulation for a specified number of steps\u001b[39;00m\n\u001b[0;32m      7\u001b[0m \u001b[38;5;28;01mfor\u001b[39;00m i \u001b[38;5;129;01min\u001b[39;00m \u001b[38;5;28mrange\u001b[39m(\u001b[38;5;241m1000\u001b[39m):\n\u001b[0;32m      8\u001b[0m         \u001b[38;5;66;03m# Example action: Move joints with specific velocities\u001b[39;00m\n",
      "File \u001b[1;32mc:\\Users\\rickv\\Documents\\GitHub\\2024-25b-fai2-adsai-RickVerburg232906\\Robotics\\sim_class.py:53\u001b[0m, in \u001b[0;36mSimulation.__init__\u001b[1;34m(self, num_agents, render, rgb_array)\u001b[0m\n\u001b[0;32m     50\u001b[0m \u001b[38;5;28mself\u001b[39m\u001b[38;5;241m.\u001b[39mpipette_positions \u001b[38;5;241m=\u001b[39m {}\n\u001b[0;32m     52\u001b[0m \u001b[38;5;66;03m# Create the robots\u001b[39;00m\n\u001b[1;32m---> 53\u001b[0m \u001b[38;5;28;43mself\u001b[39;49m\u001b[38;5;241;43m.\u001b[39;49m\u001b[43mcreate_robots\u001b[49m\u001b[43m(\u001b[49m\u001b[43mnum_agents\u001b[49m\u001b[43m)\u001b[49m\n\u001b[0;32m     55\u001b[0m \u001b[38;5;66;03m# list of sphere ids\u001b[39;00m\n\u001b[0;32m     56\u001b[0m \u001b[38;5;28mself\u001b[39m\u001b[38;5;241m.\u001b[39msphereIds \u001b[38;5;241m=\u001b[39m []\n",
      "File \u001b[1;32mc:\\Users\\rickv\\Documents\\GitHub\\2024-25b-fai2-adsai-RickVerburg232906\\Robotics\\sim_class.py:112\u001b[0m, in \u001b[0;36mSimulation.create_robots\u001b[1;34m(self, num_agents)\u001b[0m\n\u001b[0;32m    110\u001b[0m planeId \u001b[38;5;241m=\u001b[39m p\u001b[38;5;241m.\u001b[39mloadURDF(\u001b[38;5;124m\"\u001b[39m\u001b[38;5;124mcustom.urdf\u001b[39m\u001b[38;5;124m\"\u001b[39m, position_with_offset, rotate_90)\u001b[38;5;66;03m#start_orientation)\u001b[39;00m\n\u001b[0;32m    111\u001b[0m \u001b[38;5;66;03m# Disable collision between the robot and the specimen\u001b[39;00m\n\u001b[1;32m--> 112\u001b[0m \u001b[43mp\u001b[49m\u001b[38;5;241;43m.\u001b[39;49m\u001b[43msetCollisionFilterPair\u001b[49m\u001b[43m(\u001b[49m\u001b[43mrobotId\u001b[49m\u001b[43m,\u001b[49m\u001b[43m \u001b[49m\u001b[43mplaneId\u001b[49m\u001b[43m,\u001b[49m\u001b[43m \u001b[49m\u001b[38;5;241;43m-\u001b[39;49m\u001b[38;5;241;43m1\u001b[39;49m\u001b[43m,\u001b[49m\u001b[43m \u001b[49m\u001b[38;5;241;43m-\u001b[39;49m\u001b[38;5;241;43m1\u001b[39;49m\u001b[43m,\u001b[49m\u001b[43m \u001b[49m\u001b[43menableCollision\u001b[49m\u001b[38;5;241;43m=\u001b[39;49m\u001b[38;5;241;43m0\u001b[39;49m\u001b[43m)\u001b[49m\n\u001b[0;32m    113\u001b[0m spec_position, spec_orientation \u001b[38;5;241m=\u001b[39m p\u001b[38;5;241m.\u001b[39mgetBasePositionAndOrientation(planeId)\n\u001b[0;32m    115\u001b[0m \u001b[38;5;66;03m#Constrain the specimen to the robot\u001b[39;00m\n\u001b[0;32m    116\u001b[0m \u001b[38;5;66;03m# p.createConstraint(parentBodyUniqueId=robotId,\u001b[39;00m\n\u001b[0;32m    117\u001b[0m \u001b[38;5;66;03m#                 parentLinkIndex=-1,\u001b[39;00m\n\u001b[1;32m   (...)\u001b[0m\n\u001b[0;32m    125\u001b[0m \u001b[38;5;66;03m#                 childFrameOrientation=[0, 0, 0, 1])\u001b[39;00m\n\u001b[0;32m    126\u001b[0m \u001b[38;5;66;03m#p.createConstraint(robotId, -1, planeId, -1, p.JOINT_FIXED, [0, 0, 0], offset, [0, 0, 0])\u001b[39;00m\n",
      "\u001b[1;31merror\u001b[0m: Not connected to physics server."
     ]
    }
   ],
   "source": [
    "     from sim_class import Simulation\n",
    "     import random\n",
    "     # Initialize the simulation with a specified number of agents\n",
    "     sim = Simulation(num_agents=2000)  # For two robots\n",
    "\n",
    "     # Run the simulation for a specified number of steps\n",
    "     for i in range(1000):\n",
    "             # Example action: Move joints with specific velocities\n",
    "             velocity_x = random.uniform(-0.5, 0.5)\n",
    "             velocity_y = random.uniform(-0.5, 0.5)\n",
    "             velocity_z = random.uniform(-0.5, 0.5)\n",
    "             drop_command = random.randint(0, 1)\n",
    "\n",
    "             actions = [[velocity_x, velocity_y, velocity_z, drop_command],\n",
    "                        [velocity_x, velocity_y, velocity_z, drop_command]]\n",
    "\n",
    "             sim.run(actions)\n"
   ]
  },
  {
   "cell_type": "markdown",
   "metadata": {},
   "source": [
    "### Receiving Observations"
   ]
  },
  {
   "cell_type": "code",
   "execution_count": 2,
   "metadata": {},
   "outputs": [
    {
     "name": "stdout",
     "output_type": "stream",
     "text": [
      "{'robotId_1': {'joint_states': {'joint_0': {'position': -0.07923532627054708, 'velocity': 0.261376958428869, 'reaction_forces': (0.0, 0.0, 0.0, 0.0, 0.0, 0.0), 'motor_torque': 366.92812495698655}, 'joint_1': {'position': 0.13260598766613246, 'velocity': 0.05942328395480037, 'reaction_forces': (0.0, 0.0, 0.0, 0.0, 0.0, 0.0), 'motor_torque': -288.56885874740516}, 'joint_2': {'position': 0.05070261887989847, 'velocity': 0.21754860976524204, 'reaction_forces': (0.0, 0.0, 0.0, 0.0, 0.0, 0.0), 'motor_torque': 122.77835435873223}}, 'robot_position': [0.07923532630478382, -0.13260598766976223, 0.0807026188795312], 'pipette_position': [0.1522, -0.0431, 0.1702]}, 'robotId_3': {'joint_states': {'joint_0': {'position': -0.0791784450973556, 'velocity': 0.2613769584289161, 'reaction_forces': (0.0, 0.0, 0.0, 0.0, 0.0, 0.0), 'motor_torque': 366.92807570443824}, 'joint_1': {'position': 0.13261269040294, 'velocity': 0.059423283953944916, 'reaction_forces': (0.0, 0.0, 0.0, 0.0, 0.0, 0.0), 'motor_torque': -288.5688553452494}, 'joint_2': {'position': 0.05070261914515422, 'velocity': 0.21754860976563223, 'reaction_forces': (0.0, 0.0, 0.0, 0.0, 0.0, 0.0), 'motor_torque': 122.77835572776156}}, 'robot_position': [0.0791784450763256, -1.1326126904087612, 0.08070261914492101], 'pipette_position': [0.1522, -1.0431, 0.1702]}}\n"
     ]
    }
   ],
   "source": [
    "     state = sim.run(actions)\n",
    "     print(state)"
   ]
  },
  {
   "cell_type": "markdown",
   "metadata": {},
   "source": [
    "### Resetting the Simulation"
   ]
  },
  {
   "cell_type": "code",
   "execution_count": 4,
   "metadata": {},
   "outputs": [
    {
     "data": {
      "text/plain": [
       "{'robotId_53': {'joint_states': {'joint_0': {'position': 0.0,\n",
       "    'velocity': 0.0,\n",
       "    'reaction_forces': (0.0, 0.0, 0.0, 0.0, 0.0, 0.0),\n",
       "    'motor_torque': 0.0},\n",
       "   'joint_1': {'position': 0.0,\n",
       "    'velocity': 0.0,\n",
       "    'reaction_forces': (0.0, 0.0, 0.0, 0.0, 0.0, 0.0),\n",
       "    'motor_torque': 0.0},\n",
       "   'joint_2': {'position': 0.0,\n",
       "    'velocity': 0.0,\n",
       "    'reaction_forces': (0.0, 0.0, 0.0, 0.0, 0.0, 0.0),\n",
       "    'motor_torque': 0.0}},\n",
       "  'robot_position': [0.0, 0.0, 0.03],\n",
       "  'pipette_position': [0.073, 0.0895, 0.1195]}}"
      ]
     },
     "execution_count": 4,
     "metadata": {},
     "output_type": "execute_result"
    }
   ],
   "source": [
    "sim.reset(num_agents=1)  # Reset the simulation with the specified number of agents"
   ]
  }
 ],
 "metadata": {
  "kernelspec": {
   "display_name": "BlockB",
   "language": "python",
   "name": "python3"
  },
  "language_info": {
   "codemirror_mode": {
    "name": "ipython",
    "version": 3
   },
   "file_extension": ".py",
   "mimetype": "text/x-python",
   "name": "python",
   "nbconvert_exporter": "python",
   "pygments_lexer": "ipython3",
   "version": "3.8.16"
  }
 },
 "nbformat": 4,
 "nbformat_minor": 2
}
