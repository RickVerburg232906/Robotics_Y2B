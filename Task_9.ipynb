{
 "cells": [
  {
   "cell_type": "markdown",
   "metadata": {},
   "source": [
    "### Initialize the Simulation Environment"
   ]
  },
  {
   "cell_type": "code",
   "execution_count": 1,
   "metadata": {},
   "outputs": [],
   "source": [
    "from sim_class import Simulation\n",
    "\n",
    "# Initialize the simulation with a specified number of agents\n",
    "sim = Simulation(num_agents=1)  # For one robot"
   ]
  },
  {
   "cell_type": "markdown",
   "metadata": {},
   "source": [
    "### Resetting the Simulation"
   ]
  },
  {
   "cell_type": "code",
   "execution_count": 2,
   "metadata": {},
   "outputs": [
    {
     "data": {
      "text/plain": [
       "{'robotId_2': {'joint_states': {'joint_0': {'position': 0.0,\n",
       "    'velocity': 0.0,\n",
       "    'reaction_forces': (0.0, 0.0, 0.0, 0.0, 0.0, 0.0),\n",
       "    'motor_torque': 0.0},\n",
       "   'joint_1': {'position': 0.0,\n",
       "    'velocity': 0.0,\n",
       "    'reaction_forces': (0.0, 0.0, 0.0, 0.0, 0.0, 0.0),\n",
       "    'motor_torque': 0.0},\n",
       "   'joint_2': {'position': 0.0,\n",
       "    'velocity': 0.0,\n",
       "    'reaction_forces': (0.0, 0.0, 0.0, 0.0, 0.0, 0.0),\n",
       "    'motor_torque': 0.0}},\n",
       "  'robot_position': [0.0, 0.0, 0.03],\n",
       "  'pipette_position': [0.073, 0.0895, 0.1195]}}"
      ]
     },
     "execution_count": 2,
     "metadata": {},
     "output_type": "execute_result"
    }
   ],
   "source": [
    "sim.reset(num_agents=1)  # Reset the simulation with the specified number of agents"
   ]
  },
  {
   "cell_type": "markdown",
   "metadata": {},
   "source": [
    "### Sending Commands to the Robot\n",
    "\n"
   ]
  },
  {
   "cell_type": "code",
   "execution_count": 3,
   "metadata": {},
   "outputs": [
    {
     "data": {
      "text/plain": [
       "{'robotId_1': {'joint_states': {'joint_0': {'position': -0.18018212830042812,\n",
       "    'velocity': 0.011489890408608781,\n",
       "    'reaction_forces': (0.0, 0.0, 0.0, 0.0, 0.0, 0.0),\n",
       "    'motor_torque': -500.00000000000006},\n",
       "   'joint_1': {'position': -0.13002333914262054,\n",
       "    'velocity': 0.001436179847506725,\n",
       "    'reaction_forces': (0.0, 0.0, 0.0, 0.0, 0.0, 0.0),\n",
       "    'motor_torque': -500.00000000000006},\n",
       "   'joint_2': {'position': 0.1700071162742972,\n",
       "    'velocity': -1.7215376114421329e-06,\n",
       "    'reaction_forces': (0.0, 0.0, 0.0, 0.0, 0.0, 0.0),\n",
       "    'motor_torque': 800.0}},\n",
       "  'robot_position': [0.18018597967177755,\n",
       "   0.130023017683606,\n",
       "   0.20000244400881986],\n",
       "  'pipette_position': [0.2532, 0.2195, 0.2895]}}"
      ]
     },
     "execution_count": 3,
     "metadata": {},
     "output_type": "execute_result"
    }
   ],
   "source": [
    "# Check top-right-front corner\n",
    "sim.reset(num_agents=1)  # Reset the simulation with the specified number of agents\n",
    "velocity_x = 1\n",
    "velocity_y = 1\n",
    "velocity_z = 1\n",
    "drop_command = 0\n",
    "actions = [[velocity_x, velocity_y, velocity_z, drop_command]]\n",
    "sim.run(actions, num_steps=400)"
   ]
  },
  {
   "cell_type": "code",
   "execution_count": 4,
   "metadata": {},
   "outputs": [
    {
     "data": {
      "text/plain": [
       "{'robotId_2': {'joint_states': {'joint_0': {'position': 0.26001144790330527,\n",
       "    'velocity': -0.0012399493020369859,\n",
       "    'reaction_forces': (0.0, 0.0, 0.0, 0.0, 0.0, 0.0),\n",
       "    'motor_torque': 500.00000000000006},\n",
       "   'joint_1': {'position': -0.13000790464525305,\n",
       "    'velocity': 0.0005354119413663154,\n",
       "    'reaction_forces': (0.0, 0.0, 0.0, 0.0, 0.0, 0.0),\n",
       "    'motor_torque': -500.00000000000006},\n",
       "   'joint_2': {'position': 0.17000677860630303,\n",
       "    'velocity': 1.230356047768519e-05,\n",
       "    'reaction_forces': (0.0, 0.0, 0.0, 0.0, 0.0, 0.0),\n",
       "    'motor_torque': 800.0}},\n",
       "  'robot_position': [-0.26001621250424733,\n",
       "   0.1300081264677764,\n",
       "   0.20000197612124446],\n",
       "  'pipette_position': [-0.187, 0.2195, 0.2895]}}"
      ]
     },
     "execution_count": 4,
     "metadata": {},
     "output_type": "execute_result"
    }
   ],
   "source": [
    "# Check top-right-back corner\n",
    "sim.reset(num_agents=1)  # Reset the simulation with the specified number of agents\n",
    "velocity_x = -1\n",
    "velocity_y = 1\n",
    "velocity_z = 1\n",
    "drop_command = 0\n",
    "actions = [[velocity_x, velocity_y, velocity_z, drop_command]]\n",
    "sim.run(actions, num_steps=400)"
   ]
  },
  {
   "cell_type": "code",
   "execution_count": 5,
   "metadata": {},
   "outputs": [
    {
     "data": {
      "text/plain": [
       "{'robotId_1': {'joint_states': {'joint_0': {'position': -0.1799991040699111,\n",
       "    'velocity': 0.00023488698454120476,\n",
       "    'reaction_forces': (0.0, 0.0, 0.0, 0.0, 0.0, 0.0),\n",
       "    'motor_torque': -500.00000000000006},\n",
       "   'joint_1': {'position': 0.2600014396673887,\n",
       "    'velocity': -7.372167688287386e-05,\n",
       "    'reaction_forces': (0.0, 0.0, 0.0, 0.0, 0.0, 0.0),\n",
       "    'motor_torque': 500.00000000000006},\n",
       "   'joint_2': {'position': 0.17000416332812196,\n",
       "    'velocity': -7.079825339338202e-06,\n",
       "    'reaction_forces': (0.0, 0.0, 0.0, 0.0, 0.0, 0.0),\n",
       "    'motor_torque': 800.0}},\n",
       "  'robot_position': [0.18000240372159576,\n",
       "   -0.26000170650838084,\n",
       "   0.1999992279758396],\n",
       "  'pipette_position': [0.253, -0.1705, 0.2895]}}"
      ]
     },
     "execution_count": 5,
     "metadata": {},
     "output_type": "execute_result"
    }
   ],
   "source": [
    "# Check top-left-front corner\n",
    "sim.reset(num_agents=1)  # Reset the simulation with the specified number of agents\n",
    "velocity_x = 1\n",
    "velocity_y = -1\n",
    "velocity_z = 1\n",
    "drop_command = 0\n",
    "actions = [[velocity_x, velocity_y, velocity_z, drop_command]]\n",
    "sim.run(actions, num_steps=400)"
   ]
  },
  {
   "cell_type": "code",
   "execution_count": 6,
   "metadata": {},
   "outputs": [
    {
     "data": {
      "text/plain": [
       "{'robotId_2': {'joint_states': {'joint_0': {'position': 0.26045760697168907,\n",
       "    'velocity': 0.10999765962966042,\n",
       "    'reaction_forces': (0.0, 0.0, 0.0, 0.0, 0.0, 0.0),\n",
       "    'motor_torque': 500.00000000000006},\n",
       "   'joint_1': {'position': 0.2600020323210818,\n",
       "    'velocity': -0.0002319970265953906,\n",
       "    'reaction_forces': (0.0, 0.0, 0.0, 0.0, 0.0, 0.0),\n",
       "    'motor_torque': 500.00000000000006},\n",
       "   'joint_2': {'position': 0.17000291645049495,\n",
       "    'velocity': -0.0002072440726557251,\n",
       "    'reaction_forces': (0.0, 0.0, 0.0, 0.0, 0.0, 0.0),\n",
       "    'motor_torque': 800.0}},\n",
       "  'robot_position': [-0.26045986501428914,\n",
       "   -0.2600016740798034,\n",
       "   0.19999894055041878],\n",
       "  'pipette_position': [-0.1875, -0.1705, 0.2895]}}"
      ]
     },
     "execution_count": 6,
     "metadata": {},
     "output_type": "execute_result"
    }
   ],
   "source": [
    "# Check top-left-back corner\n",
    "sim.reset(num_agents=1)  # Reset the simulation with the specified number of agents\n",
    "velocity_x = -1\n",
    "velocity_y = -1\n",
    "velocity_z = 1\n",
    "drop_command = 0\n",
    "actions = [[velocity_x, velocity_y, velocity_z, drop_command]]\n",
    "sim.run(actions, num_steps=400)"
   ]
  },
  {
   "cell_type": "code",
   "execution_count": 7,
   "metadata": {},
   "outputs": [
    {
     "data": {
      "text/plain": [
       "{'robotId_1': {'joint_states': {'joint_0': {'position': -0.1800056070672756,\n",
       "    'velocity': -0.0001817948440898788,\n",
       "    'reaction_forces': (0.0, 0.0, 0.0, 0.0, 0.0, 0.0),\n",
       "    'motor_torque': -500.00000000000006},\n",
       "   'joint_1': {'position': -0.13034939925730632,\n",
       "    'velocity': 0.02212223187040875,\n",
       "    'reaction_forces': (0.0, 0.0, 0.0, 0.0, 0.0, 0.0),\n",
       "    'motor_torque': -500.00000000000006},\n",
       "   'joint_2': {'position': 0.0005004054486476412,\n",
       "    'velocity': 0.00032048299571364204,\n",
       "    'reaction_forces': (0.0, 0.0, 0.0, 0.0, 0.0, 0.0),\n",
       "    'motor_torque': -800.0}},\n",
       "  'robot_position': [0.17999979589093493,\n",
       "   0.1303588466474751,\n",
       "   0.030495361117933363],\n",
       "  'pipette_position': [0.253, 0.2199, 0.12]}}"
      ]
     },
     "execution_count": 7,
     "metadata": {},
     "output_type": "execute_result"
    }
   ],
   "source": [
    "# Check bottom-right-front corner\n",
    "sim.reset(num_agents=1)  # Reset the simulation with the specified number of agents\n",
    "velocity_x = 1\n",
    "velocity_y = 1\n",
    "velocity_z = -1\n",
    "drop_command = 0\n",
    "actions = [[velocity_x, velocity_y, velocity_z, drop_command]]\n",
    "sim.run(actions, num_steps=400)"
   ]
  },
  {
   "cell_type": "code",
   "execution_count": 8,
   "metadata": {},
   "outputs": [
    {
     "data": {
      "text/plain": [
       "{'robotId_2': {'joint_states': {'joint_0': {'position': 0.26000567982624795,\n",
       "    'velocity': 0.00018326250812023383,\n",
       "    'reaction_forces': (0.0, 0.0, 0.0, 0.0, 0.0, 0.0),\n",
       "    'motor_torque': 500.00000000000006},\n",
       "   'joint_1': {'position': -0.130017696380771,\n",
       "    'velocity': 0.0019882564442310147,\n",
       "    'reaction_forces': (0.0, 0.0, 0.0, 0.0, 0.0, 0.0),\n",
       "    'motor_torque': -500.00000000000006},\n",
       "   'joint_2': {'position': 0.0004838962488522743,\n",
       "    'velocity': 0.00031152810201852225,\n",
       "    'reaction_forces': (0.0, 0.0, 0.0, 0.0, 0.0, 0.0),\n",
       "    'motor_torque': -800.0}},\n",
       "  'robot_position': [-0.2600037567729493,\n",
       "   0.13002775374271083,\n",
       "   0.030477293160401417],\n",
       "  'pipette_position': [-0.187, 0.2195, 0.12]}}"
      ]
     },
     "execution_count": 8,
     "metadata": {},
     "output_type": "execute_result"
    }
   ],
   "source": [
    "# Check bottom-right-back corner\n",
    "sim.reset(num_agents=1)  # Reset the simulation with the specified number of agents\n",
    "velocity_x = -1\n",
    "velocity_y = 1\n",
    "velocity_z = -1\n",
    "drop_command = 0\n",
    "actions = [[velocity_x, velocity_y, velocity_z, drop_command]]\n",
    "sim.run(actions, num_steps=400)"
   ]
  },
  {
   "cell_type": "code",
   "execution_count": 9,
   "metadata": {},
   "outputs": [
    {
     "data": {
      "text/plain": [
       "{'robotId_1': {'joint_states': {'joint_0': {'position': -0.18045662637325327,\n",
       "    'velocity': -0.11002748534412768,\n",
       "    'reaction_forces': (0.0, 0.0, 0.0, 0.0, 0.0, 0.0),\n",
       "    'motor_torque': -500.00000000000006},\n",
       "   'joint_1': {'position': 0.2600004999812214,\n",
       "    'velocity': -0.00045905284600348574,\n",
       "    'reaction_forces': (0.0, 0.0, 0.0, 0.0, 0.0, 0.0),\n",
       "    'motor_torque': 500.00000000000006},\n",
       "   'joint_2': {'position': 0.0005779855868524066,\n",
       "    'velocity': 0.0003441607262983139,\n",
       "    'reaction_forces': (0.0, 0.0, 0.0, 0.0, 0.0, 0.0),\n",
       "    'motor_torque': -800.0}},\n",
       "  'robot_position': [0.18046318142592807,\n",
       "   -0.26000089956038247,\n",
       "   0.030570836465090945],\n",
       "  'pipette_position': [0.2535, -0.1705, 0.1201]}}"
      ]
     },
     "execution_count": 9,
     "metadata": {},
     "output_type": "execute_result"
    }
   ],
   "source": [
    "# Check bottom-left-front corner\n",
    "sim.reset(num_agents=1)  # Reset the simulation with the specified number of agents\n",
    "velocity_x = 1\n",
    "velocity_y = -1\n",
    "velocity_z = -1\n",
    "drop_command = 0\n",
    "actions = [[velocity_x, velocity_y, velocity_z, drop_command]]\n",
    "sim.run(actions, num_steps=400)"
   ]
  },
  {
   "cell_type": "code",
   "execution_count": 10,
   "metadata": {},
   "outputs": [
    {
     "data": {
      "text/plain": [
       "{'robotId_2': {'joint_states': {'joint_0': {'position': 0.2600276914493055,\n",
       "    'velocity': -0.002312552829850153,\n",
       "    'reaction_forces': (0.0, 0.0, 0.0, 0.0, 0.0, 0.0),\n",
       "    'motor_torque': 500.00000000000006},\n",
       "   'joint_1': {'position': 0.26000205237940205,\n",
       "    'velocity': -0.0002761664231469496,\n",
       "    'reaction_forces': (0.0, 0.0, 0.0, 0.0, 0.0, 0.0),\n",
       "    'motor_torque': 500.00000000000006},\n",
       "   'joint_2': {'position': 0.0005022216545526984,\n",
       "    'velocity': 0.0003469825873743042,\n",
       "    'reaction_forces': (0.0, 0.0, 0.0, 0.0, 0.0, 0.0),\n",
       "    'motor_torque': -800.0}},\n",
       "  'robot_position': [-0.26003623004344983,\n",
       "   -0.2600015943989177,\n",
       "   0.03049464457536285],\n",
       "  'pipette_position': [-0.187, -0.1705, 0.12]}}"
      ]
     },
     "execution_count": 10,
     "metadata": {},
     "output_type": "execute_result"
    }
   ],
   "source": [
    "# Check bottom-left-back corner\n",
    "sim.reset(num_agents=1)  # Reset the simulation with the specified number of agents\n",
    "velocity_x = -1\n",
    "velocity_y = -1\n",
    "velocity_z = -1\n",
    "drop_command = 0\n",
    "actions = [[velocity_x, velocity_y, velocity_z, drop_command]]\n",
    "sim.run(actions, num_steps=400)"
   ]
  },
  {
   "cell_type": "markdown",
   "metadata": {},
   "source": [
    "### All corners\n",
    "\n",
    "| Corner                  | Position (x, y, z)       |\n",
    "|-------------------------|--------------------------|\n",
    "| Top-right-front corner  | 0.2532, 0.2195, 0.2895  |\n",
    "| Top-right-back corner   | -0.187, 0.2195, 0.2895  |\n",
    "| Top-left-front corner   | 0.253, -0.1705, 0.2895  |\n",
    "| Top-left-back corner    | -0.1875, -0.1705, 0.2895|\n",
    "| Bottom-right-front      | 0.253, 0.2199, 0.12     |\n",
    "| Bottom-right-back corner| -0.187, 0.2195, 0.12    |\n",
    "| Bottom-left-front corner| 0.2535, -0.1705, 0.1201 |\n",
    "| Bottom-left-back corner | -0.187, -0.1705, 0.12   |\n",
    "\n"
   ]
  }
 ],
 "metadata": {
  "kernelspec": {
   "display_name": "BlockB",
   "language": "python",
   "name": "python3"
  },
  "language_info": {
   "codemirror_mode": {
    "name": "ipython",
    "version": 3
   },
   "file_extension": ".py",
   "mimetype": "text/x-python",
   "name": "python",
   "nbconvert_exporter": "python",
   "pygments_lexer": "ipython3",
   "version": "3.8.16"
  }
 },
 "nbformat": 4,
 "nbformat_minor": 2
}
